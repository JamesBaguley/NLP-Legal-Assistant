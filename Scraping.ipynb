{
 "cells": [
  {
   "cell_type": "code",
   "execution_count": 1,
   "id": "68be9d22-a15b-4268-b483-064971c5b575",
   "metadata": {},
   "outputs": [],
   "source": [
    "import requests\n",
    "from bs4 import BeautifulSoup\n",
    "from urllib.parse import urljoin\n",
    "import os"
   ]
  },
  {
   "cell_type": "code",
   "execution_count": 1,
   "id": "187a6b18-1f4e-4812-be9a-885b5103d206",
   "metadata": {},
   "outputs": [],
   "source": [
    "import requests\n",
    "from bs4 import BeautifulSoup\n",
    "import time\n",
    "\n",
    "# Base URL (to handle relative links)\n",
    "base_url = \"https://leginfo.legislature.ca.gov\"  # Replace with your base URL\n",
    "start_url = f\"https://leginfo.legislature.ca.gov/faces/codes.xhtml\"  # Replace with your starting page URL\n",
    "\n",
    "# Storage for visited URLs and their scraped content\n",
    "scraped_data = []\n",
    "\n",
    "def fetch_page_content(url):\n",
    "    \"\"\"Fetch HTML content of a page.\"\"\"\n",
    "    try:\n",
    "        response = requests.get(url)\n",
    "        response.raise_for_status()\n",
    "        return response.content\n",
    "    except requests.exceptions.RequestException as e:\n",
    "        print(f\"Error fetching {url}: {e}\")\n",
    "        return None\n",
    "\n",
    "def scrape_and_follow_links(url, visited):\n",
    "    \"\"\"Scrape content and links from a page, then follow those links.\"\"\"\n",
    "    if url in visited:\n",
    "        return  # Skip already visited URLs\n",
    "    visited.add(url)\n",
    "    \n",
    "    html_content = fetch_page_content(url)\n",
    "    if not html_content:\n",
    "        return\n",
    "    \n",
    "    soup = BeautifulSoup(html_content, 'html.parser')\n",
    "    div_content = soup.find(\"div\", class_=\"tab_content\")\n",
    "    \n",
    "    if div_content:\n",
    "        # Extract text content\n",
    "        text = div_content.get_text(strip=True)\n",
    "        \n",
    "        # Extract links and filter out JavaScript and anchor-only links\n",
    "        links = [a['href'] for a in div_content.find_all('a', href=True)]\n",
    "        full_links = [\n",
    "            link if link.startswith(\"http\") else f\"{base_url}{link}\" \n",
    "            for link in links \n",
    "            if not link.startswith(\"javascript:\") and not link.startswith(\"#\")\n",
    "        ]\n",
    "        \n",
    "        # Save the current page's data\n",
    "        scraped_data.append({\"url\": url, \"text\": text, \"links\": full_links})\n",
    "        \n",
    "        # Recursively scrape each link found\n",
    "        for link in full_links:\n",
    "            scrape_and_follow_links(link, visited)\n",
    "\n",
    "# Start scraping\n",
    "visited_urls = set()\n",
    "scrape_and_follow_links(start_url, visited_urls)"
   ]
  },
  {
   "cell_type": "code",
   "execution_count": 3,
   "id": "fe068301-9970-4a51-9e8f-623859a2a47c",
   "metadata": {},
   "outputs": [],
   "source": [
    "with open(\"scraped_data.txt\", \"w\", encoding=\"utf-8\") as file:\n",
    "    for page in scraped_data:\n",
    "        file.write(f\"URL: {page['url']}\\n\")\n",
    "        file.write(f\"Text Content:\\n{page['text']}\\n\")\n",
    "        file.write(\"Links Found:\\n\")\n",
    "        for link in page['links']:\n",
    "            file.write(f\"- {link}\\n\")\n",
    "        file.write(\"\\n\\n\")"
   ]
  },
  {
   "cell_type": "code",
   "execution_count": 5,
   "id": "0a47d003-716b-4eb1-8a96-7a51e2b4690e",
   "metadata": {},
   "outputs": [],
   "source": [
    "import json\n",
    "\n",
    "with open(\"scraped_data.json\", \"w\", encoding=\"utf-8\") as file:\n",
    "    json.dump(scraped_data, file, ensure_ascii=False, indent=4)"
   ]
  },
  {
   "cell_type": "code",
   "execution_count": 7,
   "id": "ad94c368-a7d8-42bc-8779-04bc915807ee",
   "metadata": {},
   "outputs": [],
   "source": [
    "import csv\n",
    "\n",
    "with open(\"scraped_data.csv\", \"w\", newline='', encoding=\"utf-8\") as file:\n",
    "    writer = csv.writer(file)\n",
    "    writer.writerow([\"URL\", \"Text\"])\n",
    "    for page in scraped_data:\n",
    "        writer.writerow([page['url'], page['text']])"
   ]
  }
 ],
 "metadata": {
  "kernelspec": {
   "display_name": "Python 3 (ipykernel)",
   "language": "python",
   "name": "python3"
  },
  "language_info": {
   "codemirror_mode": {
    "name": "ipython",
    "version": 3
   },
   "file_extension": ".py",
   "mimetype": "text/x-python",
   "name": "python",
   "nbconvert_exporter": "python",
   "pygments_lexer": "ipython3",
   "version": "3.11.7"
  }
 },
 "nbformat": 4,
 "nbformat_minor": 5
}
